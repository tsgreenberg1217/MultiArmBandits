{
 "cells": [
  {
   "cell_type": "code",
   "execution_count": 170,
   "metadata": {},
   "outputs": [],
   "source": [
    "import numpy as np\n",
    "import matplotlib.pyplot as plt\n",
    "import random\n",
    "import pandas as pd "
   ]
  },
  {
   "cell_type": "code",
   "execution_count": 186,
   "metadata": {},
   "outputs": [
    {
     "name": "stdout",
     "output_type": "stream",
     "text": [
      "10000\n"
     ]
    }
   ],
   "source": [
    "df = pd.read_csv('Ads_Optimisation.csv')\n",
    "ad_array = df.to_numpy().transpose()\n"
   ]
  },
  {
   "cell_type": "code",
   "execution_count": 178,
   "metadata": {},
   "outputs": [],
   "source": [
    "def bandit_strategy_1(i,k,eps, N, Q, true_opt_arms, opt_arm_pull, q_true, R_pull, bandit_plays,running_avg,running_max):\n",
    "    if random.random()<eps: \n",
    "        j=np.random.randint(k)\n",
    "    else : \n",
    "        j=np.argmax(Q[i])\n",
    "\n",
    "    if j==true_opt_arms[i] : # To calculate % optimal action\n",
    "#         opt_arm_pull=opt_arm_pull+1\n",
    "        opt_arm_pull['opt_arm_pull'] = opt_arm_pull['opt_arm_pull'] + 1\n",
    "    \n",
    "    reward=np.random.normal(q_true[i][j],1)\n",
    "    R_pull.append(reward)\n",
    "    N[i][j]=N[i][j]+1\n",
    "    Q[i][j]=Q[i][j]+(reward-Q[i][j])/N[i][j]\n",
    "\n",
    "    bandit_plays[j] += 1\n",
    "    running_avg[j] = (reward - running_avg[j]) / bandit_plays[j]\n",
    "    running_max[j] += reward\n",
    "    \n",
    "def bandit_strategy_2(i,k,eps, N, Q, true_opt_arms, opt_arm_pull, q_true, R_pull, bandit_plays,running_avg,running_max):\n",
    "    if random.random()<eps: \n",
    "        j=np.random.randint(k)\n",
    "    else : \n",
    "        j=np.argmax(Q[i])\n",
    "\n",
    "    reward=ad_array[j][i]\n",
    "    R_pull.append(reward)\n",
    "    N[i][j]=N[i][j]+1\n",
    "    Q[i][j]=Q[i][j]+(reward-Q[i][j])/N[i][j]\n",
    "\n",
    "    bandit_plays[j] += 1\n",
    "    running_avg[j] = (reward - running_avg[j]) / bandit_plays[j]\n",
    "    running_max[j] += reward"
   ]
  },
  {
   "cell_type": "code",
   "execution_count": 179,
   "metadata": {},
   "outputs": [],
   "source": [
    "def run_experiment(eps, n_pulls, n_bandit, strat):\n",
    "    print(f'running for eps {eps}')\n",
    "    \n",
    "    k=10 # number of arms in each bandit problem\n",
    "\n",
    "    q_true=np.random.normal(0,1,(n_bandit,k)) # generating {n_bandit} bandit sets of {k} bandits\n",
    "    true_opt_arms=np.argmax(q_true,1) # the index of max value of each set to determine optimal bandit percentage\n",
    "\n",
    "    Q=np.zeros((n_bandit,k)) # reward estimated\n",
    "    N=np.ones((n_bandit,k)) # number of times each arm was pulled # each arm is pulled atleast once\n",
    "    # Pull all arms once (mainly for when eps is 0)\n",
    "\n",
    "#     Qi=np.random.normal(q_true,1) # initial pulling of all arms\n",
    "    R_eps = []\n",
    "#     R_eps.append(0)\n",
    "#     R_eps.append(np.mean(Qi))\n",
    "    R_eps_opt = []\n",
    "    \n",
    "    m_running_avg = np.zeros(k) # keep track of running averages for each arm\n",
    "    m_running_max = np.zeros(k) # max reward recorded for each arm\n",
    "\n",
    "\n",
    "    for pull in range(n_pulls) :  \n",
    "        R_pull=[] # all rewards in this pull/time-step\n",
    "#         opt_arm_pull=0 # number of pulss of best arm in this time step\n",
    "        opt_arm_pull = {'opt_arm_pull':0}        \n",
    "        bandit_plays = np.zeros(k) # number of times each bandit was played\n",
    "        running_avg = np.zeros(k) # keep track of running averages for each arm\n",
    "        running_max = np.zeros(k) # max reward recorded for each arm\n",
    "        \n",
    "        for i in range(n_bandit) : \n",
    "            strat(i,k,eps, N, Q, true_opt_arms, opt_arm_pull, q_true, R_pull, bandit_plays,running_avg,running_max)\n",
    "#             if random.random()<eps: \n",
    "#                 j=np.random.randint(k)\n",
    "#             else : \n",
    "#                 j=np.argmax(Q[i])\n",
    "\n",
    "#             if j==true_opt_arms[i] : # To calculate % optimal action\n",
    "#                 opt_arm_pull=opt_arm_pull+1\n",
    "\n",
    "#             reward=np.random.normal(q_true[i][j],1)\n",
    "#             R_pull.append(reward)\n",
    "#             N[i][j]=N[i][j]+1\n",
    "#             Q[i][j]=Q[i][j]+(reward-Q[i][j])/N[i][j]\n",
    "            \n",
    "#             bandit_plays[j] += 1\n",
    "#             running_avg[j] = (reward - running_avg[j]) / bandit_plays[j]\n",
    "#             running_max[j] += reward\n",
    "            \n",
    "        for i in range(10):\n",
    "            if m_running_max[i] < running_max[i]:\n",
    "                m_running_max[i] = running_max[i]\n",
    "            if m_running_avg[i] < running_avg[i]:\n",
    "                m_running_avg[i] = running_avg[i]\n",
    "        \n",
    "        \n",
    "        avg_R_pull=np.mean(R_pull)\n",
    "        R_eps.append(avg_R_pull)\n",
    "        R_eps_opt.append(float(opt_arm_pull['opt_arm_pull'])*100/2000)\n",
    "        \n",
    "    max_index = np.argmax(m_running_max)\n",
    "    avg_index = np.argmax(m_running_avg)\n",
    "    arm_data = {\n",
    "        'eps':eps,\n",
    "        'pulls': n_pulls,\n",
    "        'max_total': {'max': round(m_running_max[max_index], 2), 'arm': max_index+1},\n",
    "        'max_avg': {'max': round(m_running_avg[avg_index], 2), 'arm': avg_index+1}\n",
    "    }\n",
    "        \n",
    "    return R_eps,R_eps_opt, arm_data"
   ]
  },
  {
   "cell_type": "code",
   "execution_count": 180,
   "metadata": {},
   "outputs": [],
   "source": [
    "\n",
    "def run_experiments_for_epsilons(steps, strat):\n",
    "    print(f'running experiments for {steps}')\n",
    "    g_a, g_o, g_data = run_experiment(0.0, steps, 2000, strat)\n",
    "    e1_a, e1_o, e1_data = run_experiment(0.1, steps, 2000, strat)\n",
    "    e01_a, e01_o, e01_data = run_experiment(0.01, steps, 2000, strat)\n",
    "    \n",
    "    return {\n",
    "        'greedy': {\n",
    "            'rewards': g_a,\n",
    "            'optimize':g_o,\n",
    "            'arm_data':g_data\n",
    "        },\n",
    "        'e1': {\n",
    "            'rewards': e1_a,\n",
    "            'optimize':e1_o,\n",
    "            'arm_data':e1_data\n",
    "        },\n",
    "        'e01': {\n",
    "            'rewards': e01_a,\n",
    "            'optimize':e01_o,\n",
    "            'arm_data':e01_data\n",
    "        }\n",
    "    }"
   ]
  },
  {
   "cell_type": "code",
   "execution_count": 181,
   "metadata": {},
   "outputs": [],
   "source": [
    "def print_bandit_data(data):\n",
    "    eps = data[\"eps\"]\n",
    "    m_t = data['max_total']['max']\n",
    "    m_t_arm = data['max_total']['arm']\n",
    "    m_a = data['max_avg']['max']\n",
    "    m_a_arm = data['max_avg']['arm']\n",
    "    print(f'For eps  {eps}')\n",
    "    print(f'Max Total: with {m_t} from arm {m_t_arm}')\n",
    "    print(f'Max Avg: with {m_a} from arm {m_a_arm}')\n",
    "    \n",
    "def print_data_group(d_array):\n",
    "    steps = d_array[0]['pulls']\n",
    "    print(f'For {steps} steps')\n",
    "    for d in d_array:\n",
    "        print_bandit_data(d)\n",
    "    print(\"\\n\")\n",
    "\n",
    "def createGraphs(greedy, ep1, ep01, start, ranges, title):\n",
    "    fig, a = plt.subplots(figsize=(10,10))\n",
    "    fig.suptitle(f\"10 arm bandit {ranges[0]} steps\")\n",
    "\n",
    "#     for i in range(len(ranges)):\n",
    "    r = ranges[0]\n",
    "#     a = axs[math.floor(i/2),i%2]\n",
    "    a.plot(greedy[start:r], label=\"greedy\")\n",
    "    a.plot(ep1[start:r], label=\"epsilon=0.1\")\n",
    "    a.plot(ep01[start:r], label=\"epsilon=0.01\")\n",
    "    a.set_title(f\"{title} \" + str(r) + \" tasks\")\n",
    "    fig.legend(\n",
    "        labels=[\"greedy\", \"epsilon=0.1\", \"epsilon=0.01\"],\n",
    "        loc=\"center right\",\n",
    "        borderaxespad=0.1)\n",
    "    plt.show()"
   ]
  },
  {
   "cell_type": "code",
   "execution_count": 187,
   "metadata": {},
   "outputs": [
    {
     "name": "stdout",
     "output_type": "stream",
     "text": [
      "running experiments for 10000\n",
      "running for eps 0.0\n",
      "running for eps 0.1\n",
      "running for eps 0.01\n",
      "done\n"
     ]
    }
   ],
   "source": [
    "data_1000 = run_experiments_for_epsilons(10000, bandit_strategy_2)\n",
    "print('done')"
   ]
  },
  {
   "cell_type": "code",
   "execution_count": 188,
   "metadata": {},
   "outputs": [
    {
     "data": {
      "image/png": "[encoded data removed]",
      "text/plain": [
       "<Figure size 720x720 with 1 Axes>"
      ]
     },
     "metadata": {
      "needs_background": "light"
     },
     "output_type": "display_data"
    },
    {
     "name": "stdout",
     "output_type": "stream",
     "text": [
      "For 10000 steps\n",
      "For eps  0.0\n",
      "Max Total: with 341.0 from arm 1\n",
      "Max Avg: with 0.0 from arm 1\n",
      "For eps  0.1\n",
      "Max Total: with 323.0 from arm 1\n",
      "Max Avg: with 0.07 from arm 6\n",
      "For eps  0.01\n",
      "Max Total: with 340.0 from arm 1\n",
      "Max Avg: with 1.0 from arm 5\n",
      "\n",
      "\n"
     ]
    }
   ],
   "source": [
    "# print_bandit_data(e1_data)\n",
    "createGraphs(\n",
    "    data_1000['greedy']['rewards'],\n",
    "    data_1000['e1']['rewards'],\n",
    "    data_1000['e01']['rewards'],\n",
    "    0,\n",
    "    [1000],\n",
    "    'x')\n",
    "# createGraphs(\n",
    "#     data_1000['greedy']['optimize'],\n",
    "#     data_1000['e1']['optimize'],\n",
    "#     data_1000['e01']['optimize'],\n",
    "#     0,\n",
    "#     [1000],\n",
    "#     'x')\n",
    "\n",
    "g_data = data_1000['greedy']['arm_data']\n",
    "e1_data = data_1000['e1']['arm_data']\n",
    "e01_data = data_1000['e01']['arm_data']\n",
    "print_data_group([g_data, e1_data, e01_data])"
   ]
  },
  {
   "cell_type": "code",
   "execution_count": null,
   "metadata": {},
   "outputs": [],
   "source": []
  },
  {
   "cell_type": "code",
   "execution_count": null,
   "metadata": {},
   "outputs": [],
   "source": []
  }
 ],
 "metadata": {
  "kernelspec": {
   "display_name": "Python 3",
   "language": "python",
   "name": "python3"
  },
  "language_info": {
   "codemirror_mode": {
    "name": "ipython",
    "version": 3
   },
   "file_extension": ".py",
   "mimetype": "text/x-python",
   "name": "python",
   "nbconvert_exporter": "python",
   "pygments_lexer": "ipython3",
   "version": "3.7.4"
  }
 },
 "nbformat": 4,
 "nbformat_minor": 2
}
